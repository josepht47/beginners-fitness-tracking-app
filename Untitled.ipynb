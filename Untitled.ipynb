{
 "cells": [
  {
   "cell_type": "code",
   "execution_count": null,
   "metadata": {},
   "outputs": [],
   "source": [
    "import tkinter as tk"
   ]
  },
  {
   "cell_type": "code",
   "execution_count": null,
   "metadata": {},
   "outputs": [],
   "source": [
    "window = tk.Tk()"
   ]
  },
  {
   "cell_type": "code",
   "execution_count": null,
   "metadata": {},
   "outputs": [],
   "source": [
    "window"
   ]
  },
  {
   "cell_type": "code",
   "execution_count": null,
   "metadata": {},
   "outputs": [],
   "source": [
    "greeting = tk.Label(text=\"Hello, Tkinter\")"
   ]
  },
  {
   "cell_type": "code",
   "execution_count": null,
   "metadata": {},
   "outputs": [],
   "source": [
    "window"
   ]
  },
  {
   "cell_type": "code",
   "execution_count": 1,
   "metadata": {},
   "outputs": [
    {
     "ename": "SyntaxError",
     "evalue": "Missing parentheses in call to 'print'. Did you mean print(ctr, x, y)? (<ipython-input-1-c85576a2d9ed>, line 13)",
     "output_type": "error",
     "traceback": [
      "\u001b[0;36m  File \u001b[0;32m\"<ipython-input-1-c85576a2d9ed>\"\u001b[0;36m, line \u001b[0;32m13\u001b[0m\n\u001b[0;31m    print ctr, x, y\u001b[0m\n\u001b[0m          ^\u001b[0m\n\u001b[0;31mSyntaxError\u001b[0m\u001b[0;31m:\u001b[0m Missing parentheses in call to 'print'. Did you mean print(ctr, x, y)?\n"
     ]
    }
   ],
   "source": [
    "from tkinter import *\n",
    "from functools import partial\n",
    "\n",
    "canvas_height = 400\n",
    "canvas_width = 600\n",
    "canvas_colour = \"grey50\"\n",
    "moveBoolean = \"True\"\n",
    "\n",
    "def move_it(ctr=0):\n",
    "    if ctr < len(coords):\n",
    "        x, y = coords[ctr]\n",
    "        ctr += 1\n",
    "        print ctr, x, y\n",
    "        canvas.move(square, x, y)\n",
    "        window.after(1000, partial(move_it, ctr))\n",
    "\n",
    "window = Tk()\n",
    "\n",
    "canvas = Canvas(bg=canvas_colour, height=canvas_height,\n",
    "         width=canvas_width, highlightthickness=0)\n",
    "canvas.pack()\n",
    "\n",
    "square = canvas.create_rectangle(50, 50, 50, 50, width=50, fill=\"black\")\n",
    "\n",
    "coords = ((90, 90),\n",
    "          (180, 180),\n",
    "          (50, 50))\n",
    "move_it()\n",
    "\n",
    "window.mainloop()"
   ]
  },
  {
   "cell_type": "code",
   "execution_count": null,
   "metadata": {},
   "outputs": [],
   "source": []
  }
 ],
 "metadata": {
  "kernelspec": {
   "display_name": "Python 3",
   "language": "python",
   "name": "python3"
  },
  "language_info": {
   "codemirror_mode": {
    "name": "ipython",
    "version": 3
   },
   "file_extension": ".py",
   "mimetype": "text/x-python",
   "name": "python",
   "nbconvert_exporter": "python",
   "pygments_lexer": "ipython3",
   "version": "3.8.5"
  }
 },
 "nbformat": 4,
 "nbformat_minor": 4
}
