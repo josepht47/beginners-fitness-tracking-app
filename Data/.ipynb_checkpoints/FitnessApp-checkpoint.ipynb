{
 "cells": [
  {
   "cell_type": "markdown",
   "metadata": {},
   "source": [
    "Fitness Tracker App"
   ]
  },
  {
   "cell_type": "code",
   "execution_count": null,
   "metadata": {},
   "outputs": [],
   "source": [
    "#Importing Libraries\n",
    "import numpy as np\n",
    "import pandas as pd\n",
    "from datetime import date\n",
    "import glob\n",
    "from pathlib import Path"
   ]
  },
  {
   "cell_type": "code",
   "execution_count": null,
   "metadata": {},
   "outputs": [],
   "source": [
    "path=\"/Users/josephthomas/Documents/Areas of Focus/Code Repositories/git/beginners-fitness-tracking-app/Data\""
   ]
  },
  {
   "cell_type": "code",
   "execution_count": null,
   "metadata": {},
   "outputs": [],
   "source": [
    "schedule=pd.read_csv(path+\"/Schedule.csv\")"
   ]
  },
  {
   "cell_type": "code",
   "execution_count": null,
   "metadata": {
    "scrolled": true
   },
   "outputs": [],
   "source": [
    "schedule.head()"
   ]
  },
  {
   "cell_type": "code",
   "execution_count": null,
   "metadata": {},
   "outputs": [],
   "source": [
    "def num_inp(size=10):\n",
    "    check=0\n",
    "    val=input()\n",
    "    while check<1:\n",
    "        if val.isnumeric():\n",
    "            if int(val)<=size:\n",
    "                check+=1\n",
    "                return int(val)\n",
    "            else:\n",
    "                print(\"Enter a number between 0 and\",size-1)\n",
    "                return num_inp()\n",
    "        else:\n",
    "            print(\"Enter a valid number\")\n",
    "            return num_inp()\n",
    "    "
   ]
  },
  {
   "cell_type": "code",
   "execution_count": null,
   "metadata": {},
   "outputs": [],
   "source": [
    "def readWOs():\n",
    "    wo={}\n",
    "    for file in Path(path).glob('*.csv'):\n",
    "        key=str(file).split('/')[9].split('.')[0]\n",
    "        value=pd.read_csv(file)\n",
    "        wo[key]=value\n",
    "    return wo"
   ]
  },
  {
   "cell_type": "code",
   "execution_count": null,
   "metadata": {},
   "outputs": [],
   "source": [
    "workouts=readWOs()"
   ]
  },
  {
   "cell_type": "code",
   "execution_count": null,
   "metadata": {
    "scrolled": false
   },
   "outputs": [],
   "source": [
    "workouts['Workout B']"
   ]
  },
  {
   "cell_type": "code",
   "execution_count": null,
   "metadata": {},
   "outputs": [],
   "source": [
    "ex_date=date.today()"
   ]
  },
  {
   "cell_type": "code",
   "execution_count": null,
   "metadata": {},
   "outputs": [],
   "source": [
    "def workfunc(wo_schedule, reldate):\n",
    "    weeknum=int(reldate.strftime(\"%U\"))\n",
    "    day=reldate.strftime(\"%A\")\n",
    "    wo=wo_schedule[wo_schedule['Week']==weeknum][[day,'Level']]\n",
    "    numwo=len(wo)\n",
    "    return wo,numwo\n",
    "    "
   ]
  },
  {
   "cell_type": "code",
   "execution_count": null,
   "metadata": {},
   "outputs": [],
   "source": [
    "workout,num_workout = workfunc(schedule,ex_date)"
   ]
  },
  {
   "cell_type": "code",
   "execution_count": null,
   "metadata": {},
   "outputs": [],
   "source": [
    "def wolist(WO,num_WO):\n",
    "    temp=[]\n",
    "    day=ex_date.strftime(\"%A\")\n",
    "    for i in range(num_WO):\n",
    "        tempdf=workouts[WO[day][i]]\n",
    "        temp.append(tempdf[tempdf.level==WO['Level'][i]])\n",
    "    temp=pd.concat(temp).reset_index().drop('index',axis=1)\n",
    "    return temp\n",
    "    "
   ]
  },
  {
   "cell_type": "code",
   "execution_count": null,
   "metadata": {},
   "outputs": [],
   "source": [
    "days_exercise=wolist(workout,num_workout)"
   ]
  },
  {
   "cell_type": "code",
   "execution_count": null,
   "metadata": {},
   "outputs": [],
   "source": [
    "def finaldb(exercise):\n",
    "    a=[]\n",
    "    i=0\n",
    "    while i<exercise.shape[0]:\n",
    "        print(\"Exercise: \", exercise.loc[i,\"exercise\"])\n",
    "        print(\"Type: \", exercise.loc[i,\"type\"])\n",
    "        print(\"Enter number of sets: \")\n",
    "        max_sets=num_inp(10)\n",
    "        reps=\" \"\n",
    "        weight=[]\n",
    "        for j in range(max_sets):\n",
    "            print(\"Enter number of reps in set\",j+1,\": \")\n",
    "            rep=str(num_inp(50))\n",
    "            reps=reps+rep\n",
    "            if j!=(max_sets-1):\n",
    "                reps+=\"x\"\n",
    "            print(\"Enter weight used in set\", j+1,\": \")\n",
    "            weight.append(num_inp(400))\n",
    "        exercise.loc[i,\"sets\"]=max_sets\n",
    "        exercise.loc[i,\"reps\"]=reps\n",
    "        exercise.loc[i,\"weights\"]=np.array(weight).max()\n",
    "        i+=1\n",
    "    return exercise\n",
    "    "
   ]
  },
  {
   "cell_type": "code",
   "execution_count": null,
   "metadata": {},
   "outputs": [],
   "source": [
    "days_exercise=finaldb(days_exercise)"
   ]
  },
  {
   "cell_type": "code",
   "execution_count": null,
   "metadata": {},
   "outputs": [],
   "source": [
    "days_exercise"
   ]
  },
  {
   "cell_type": "code",
   "execution_count": null,
   "metadata": {},
   "outputs": [],
   "source": []
  }
 ],
 "metadata": {
  "kernelspec": {
   "display_name": "Python 3",
   "language": "python",
   "name": "python3"
  },
  "language_info": {
   "codemirror_mode": {
    "name": "ipython",
    "version": 3
   },
   "file_extension": ".py",
   "mimetype": "text/x-python",
   "name": "python",
   "nbconvert_exporter": "python",
   "pygments_lexer": "ipython3",
   "version": "3.8.5"
  }
 },
 "nbformat": 4,
 "nbformat_minor": 4
}
