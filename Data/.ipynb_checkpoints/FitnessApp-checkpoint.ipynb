{
 "cells": [
  {
   "cell_type": "markdown",
   "metadata": {},
   "source": [
    "Fitness Tracker App"
   ]
  },
  {
   "cell_type": "code",
   "execution_count": 1,
   "metadata": {},
   "outputs": [],
   "source": [
    "#Importing Libraries\n",
    "import numpy as np\n",
    "import pandas as pd\n",
    "from datetime import date\n",
    "import glob\n",
    "from pathlib import Path"
   ]
  },
  {
   "cell_type": "code",
   "execution_count": 2,
   "metadata": {},
   "outputs": [],
   "source": [
    "path=\"/Users/josephthomas/Documents/Areas of Focus/Code Repositories/git/beginners-fitness-tracking-app/Data\""
   ]
  },
  {
   "cell_type": "code",
   "execution_count": 3,
   "metadata": {},
   "outputs": [],
   "source": [
    "schedule=pd.read_csv(path+\"/Schedule.csv\")"
   ]
  },
  {
   "cell_type": "code",
   "execution_count": 4,
   "metadata": {
    "scrolled": true
   },
   "outputs": [
    {
     "data": {
      "text/html": [
       "<div>\n",
       "<style scoped>\n",
       "    .dataframe tbody tr th:only-of-type {\n",
       "        vertical-align: middle;\n",
       "    }\n",
       "\n",
       "    .dataframe tbody tr th {\n",
       "        vertical-align: top;\n",
       "    }\n",
       "\n",
       "    .dataframe thead th {\n",
       "        text-align: right;\n",
       "    }\n",
       "</style>\n",
       "<table border=\"1\" class=\"dataframe\">\n",
       "  <thead>\n",
       "    <tr style=\"text-align: right;\">\n",
       "      <th></th>\n",
       "      <th>Week</th>\n",
       "      <th>Monday</th>\n",
       "      <th>Tuesday</th>\n",
       "      <th>Wednesday</th>\n",
       "      <th>Thursday</th>\n",
       "      <th>Friday</th>\n",
       "      <th>Saturday</th>\n",
       "      <th>Sunday</th>\n",
       "      <th>Level</th>\n",
       "    </tr>\n",
       "  </thead>\n",
       "  <tbody>\n",
       "    <tr>\n",
       "      <th>0</th>\n",
       "      <td>21</td>\n",
       "      <td>Workout A</td>\n",
       "      <td>Workout C</td>\n",
       "      <td>Workout B</td>\n",
       "      <td>Workout C</td>\n",
       "      <td>Workout A</td>\n",
       "      <td>Cardio</td>\n",
       "      <td>Flexibility</td>\n",
       "      <td>1</td>\n",
       "    </tr>\n",
       "    <tr>\n",
       "      <th>1</th>\n",
       "      <td>21</td>\n",
       "      <td>Biceps A</td>\n",
       "      <td>Triceps A</td>\n",
       "      <td>Biceps B</td>\n",
       "      <td>Triceps B</td>\n",
       "      <td>Biceps C</td>\n",
       "      <td>Triceps C</td>\n",
       "      <td>Rest</td>\n",
       "      <td>1</td>\n",
       "    </tr>\n",
       "    <tr>\n",
       "      <th>2</th>\n",
       "      <td>22</td>\n",
       "      <td>Workout B</td>\n",
       "      <td>Workout C</td>\n",
       "      <td>Workout A</td>\n",
       "      <td>Workout C</td>\n",
       "      <td>Workout B</td>\n",
       "      <td>Cardio</td>\n",
       "      <td>Flexibility</td>\n",
       "      <td>1</td>\n",
       "    </tr>\n",
       "    <tr>\n",
       "      <th>3</th>\n",
       "      <td>22</td>\n",
       "      <td>Triceps A</td>\n",
       "      <td>Biceps A</td>\n",
       "      <td>Triceps B</td>\n",
       "      <td>Biceps B</td>\n",
       "      <td>Triceps C</td>\n",
       "      <td>Biceps C</td>\n",
       "      <td>Rest</td>\n",
       "      <td>2</td>\n",
       "    </tr>\n",
       "    <tr>\n",
       "      <th>4</th>\n",
       "      <td>23</td>\n",
       "      <td>Workout A</td>\n",
       "      <td>Workout C</td>\n",
       "      <td>Workout B</td>\n",
       "      <td>Workout C</td>\n",
       "      <td>Workout A</td>\n",
       "      <td>Cardio</td>\n",
       "      <td>Flexibility</td>\n",
       "      <td>1</td>\n",
       "    </tr>\n",
       "  </tbody>\n",
       "</table>\n",
       "</div>"
      ],
      "text/plain": [
       "   Week     Monday    Tuesday  Wednesday   Thursday     Friday   Saturday  \\\n",
       "0    21  Workout A  Workout C  Workout B  Workout C  Workout A     Cardio   \n",
       "1    21   Biceps A  Triceps A   Biceps B  Triceps B   Biceps C  Triceps C   \n",
       "2    22  Workout B  Workout C  Workout A  Workout C  Workout B     Cardio   \n",
       "3    22  Triceps A   Biceps A  Triceps B   Biceps B  Triceps C   Biceps C   \n",
       "4    23  Workout A  Workout C  Workout B  Workout C  Workout A     Cardio   \n",
       "\n",
       "        Sunday  Level  \n",
       "0  Flexibility      1  \n",
       "1         Rest      1  \n",
       "2  Flexibility      1  \n",
       "3         Rest      2  \n",
       "4  Flexibility      1  "
      ]
     },
     "execution_count": 4,
     "metadata": {},
     "output_type": "execute_result"
    }
   ],
   "source": [
    "schedule.head()"
   ]
  },
  {
   "cell_type": "code",
   "execution_count": 5,
   "metadata": {},
   "outputs": [],
   "source": [
    "schedule = schedule.replace(' ','_', regex=True)"
   ]
  },
  {
   "cell_type": "code",
   "execution_count": 6,
   "metadata": {},
   "outputs": [],
   "source": [
    "workouts={}"
   ]
  },
  {
   "cell_type": "code",
   "execution_count": 7,
   "metadata": {},
   "outputs": [],
   "source": [
    "for file in Path(path).glob('*.csv'):\n",
    "    key=str(file).split('/')[9].split('.')[0]\n",
    "    value=pd.read_csv(file)\n",
    "    workouts[key]=value"
   ]
  },
  {
   "cell_type": "code",
   "execution_count": 8,
   "metadata": {
    "scrolled": false
   },
   "outputs": [
    {
     "data": {
      "text/html": [
       "<div>\n",
       "<style scoped>\n",
       "    .dataframe tbody tr th:only-of-type {\n",
       "        vertical-align: middle;\n",
       "    }\n",
       "\n",
       "    .dataframe tbody tr th {\n",
       "        vertical-align: top;\n",
       "    }\n",
       "\n",
       "    .dataframe thead th {\n",
       "        text-align: right;\n",
       "    }\n",
       "</style>\n",
       "<table border=\"1\" class=\"dataframe\">\n",
       "  <thead>\n",
       "    <tr style=\"text-align: right;\">\n",
       "      <th></th>\n",
       "      <th>exercise</th>\n",
       "      <th>type</th>\n",
       "      <th>level</th>\n",
       "    </tr>\n",
       "  </thead>\n",
       "  <tbody>\n",
       "    <tr>\n",
       "      <th>0</th>\n",
       "      <td>Pullthrough</td>\n",
       "      <td>hinge</td>\n",
       "      <td>1</td>\n",
       "    </tr>\n",
       "    <tr>\n",
       "      <th>1</th>\n",
       "      <td>BW Reverse Lunge</td>\n",
       "      <td>dynamic lunge</td>\n",
       "      <td>1</td>\n",
       "    </tr>\n",
       "    <tr>\n",
       "      <th>2</th>\n",
       "      <td>Pushups</td>\n",
       "      <td>horizontal push</td>\n",
       "      <td>1</td>\n",
       "    </tr>\n",
       "    <tr>\n",
       "      <th>3</th>\n",
       "      <td>Lat Band PullDowns</td>\n",
       "      <td>vertical pull</td>\n",
       "      <td>1</td>\n",
       "    </tr>\n",
       "    <tr>\n",
       "      <th>4</th>\n",
       "      <td>Romanian Deadlifts</td>\n",
       "      <td>hinge</td>\n",
       "      <td>2</td>\n",
       "    </tr>\n",
       "    <tr>\n",
       "      <th>5</th>\n",
       "      <td>DB Suitcase RW Lunge</td>\n",
       "      <td>dynamic lunge</td>\n",
       "      <td>2</td>\n",
       "    </tr>\n",
       "    <tr>\n",
       "      <th>6</th>\n",
       "      <td>DB Benchpress</td>\n",
       "      <td>horizontal push</td>\n",
       "      <td>2</td>\n",
       "    </tr>\n",
       "    <tr>\n",
       "      <th>7</th>\n",
       "      <td>Band Assisted Pull-ups</td>\n",
       "      <td>vertical pull</td>\n",
       "      <td>2</td>\n",
       "    </tr>\n",
       "    <tr>\n",
       "      <th>8</th>\n",
       "      <td>Deadlifts</td>\n",
       "      <td>hinge</td>\n",
       "      <td>3</td>\n",
       "    </tr>\n",
       "    <tr>\n",
       "      <th>9</th>\n",
       "      <td>DB RW Lunge</td>\n",
       "      <td>dynamic lunge</td>\n",
       "      <td>3</td>\n",
       "    </tr>\n",
       "    <tr>\n",
       "      <th>10</th>\n",
       "      <td>BB Benchpress</td>\n",
       "      <td>horizontal push</td>\n",
       "      <td>3</td>\n",
       "    </tr>\n",
       "    <tr>\n",
       "      <th>11</th>\n",
       "      <td>Pull Ups</td>\n",
       "      <td>vertical pull</td>\n",
       "      <td>3</td>\n",
       "    </tr>\n",
       "  </tbody>\n",
       "</table>\n",
       "</div>"
      ],
      "text/plain": [
       "                  exercise             type  level\n",
       "0              Pullthrough            hinge      1\n",
       "1         BW Reverse Lunge    dynamic lunge      1\n",
       "2                  Pushups  horizontal push      1\n",
       "3       Lat Band PullDowns    vertical pull      1\n",
       "4       Romanian Deadlifts            hinge      2\n",
       "5     DB Suitcase RW Lunge    dynamic lunge      2\n",
       "6            DB Benchpress  horizontal push      2\n",
       "7   Band Assisted Pull-ups    vertical pull      2\n",
       "8                Deadlifts            hinge      3\n",
       "9              DB RW Lunge    dynamic lunge      3\n",
       "10           BB Benchpress  horizontal push      3\n",
       "11                Pull Ups    vertical pull      3"
      ]
     },
     "execution_count": 8,
     "metadata": {},
     "output_type": "execute_result"
    }
   ],
   "source": [
    "workouts['Workout_B']"
   ]
  },
  {
   "cell_type": "code",
   "execution_count": 9,
   "metadata": {},
   "outputs": [],
   "source": [
    "ex_date=date.today()"
   ]
  },
  {
   "cell_type": "code",
   "execution_count": 10,
   "metadata": {},
   "outputs": [],
   "source": [
    "def workfunc(wo_schedule, reldate):\n",
    "    weeknum=int(reldate.strftime(\"%U\"))\n",
    "    day=reldate.strftime(\"%A\")\n",
    "    wo=wo_schedule[wo_schedule['Week']==weeknum][[day,'Level']]\n",
    "    numwo=len(wo)\n",
    "    return wo,numwo\n",
    "    "
   ]
  },
  {
   "cell_type": "code",
   "execution_count": 16,
   "metadata": {},
   "outputs": [],
   "source": [
    "workout,num_workout = workfunc(schedule,ex_date)"
   ]
  },
  {
   "cell_type": "code",
   "execution_count": 21,
   "metadata": {},
   "outputs": [],
   "source": [
    "def wolist(wo,num_wo):\n",
    "    temp=[]\n",
    "    day=ex_date.strftime(\"%A\")\n",
    "    for i in range(num_wo):\n",
    "        tempdf=workouts[wo[day][i]]\n",
    "        temp.append(tempdf[tempdf.level==wo['Level'][i]])\n",
    "    temp=pd.concat(temp).reset_index().drop('index',axis=1)\n",
    "    return temp\n",
    "    "
   ]
  },
  {
   "cell_type": "code",
   "execution_count": 22,
   "metadata": {},
   "outputs": [],
   "source": [
    "days_exercise=wolist(workout,num_workout)"
   ]
  },
  {
   "cell_type": "code",
   "execution_count": 23,
   "metadata": {},
   "outputs": [
    {
     "data": {
      "text/plain": [
       "(3, 3)"
      ]
     },
     "execution_count": 23,
     "metadata": {},
     "output_type": "execute_result"
    }
   ],
   "source": [
    "days_exercise.shape"
   ]
  },
  {
   "cell_type": "code",
   "execution_count": 24,
   "metadata": {},
   "outputs": [],
   "source": [
    "def finaldb(exercise):\n",
    "    a=[]\n",
    "    i=0\n",
    "    while i<exercise.shape[0]:\n",
    "        print(\"Exercise: \", exercise.loc[i,\"exercise\"])\n",
    "        print(\"Type: \", exercise.loc[i,\"type\"])\n",
    "        max_sets=int(input(\"Enter number of sets: \"))\n",
    "        reps=\" \"\n",
    "        weight=[]\n",
    "        for j in range(max_sets):\n",
    "            print(\"Enter number of reps in set\",j+1,\": \")\n",
    "            rep=input()\n",
    "            reps=reps+rep\n",
    "            if j!=(max_sets-1):\n",
    "                reps+=\"x\"\n",
    "            print(\"Enter weight used in set\", j+1,\": \")\n",
    "            weight.append(int(input()))\n",
    "        exercise.loc[i,\"sets\"]=max_sets\n",
    "        exercise.loc[i,\"reps\"]=reps\n",
    "        exercise.loc[i,\"weights\"]=np.array(weight).max()\n",
    "        i+=1\n",
    "    return exercise\n",
    "    "
   ]
  },
  {
   "cell_type": "code",
   "execution_count": 25,
   "metadata": {},
   "outputs": [
    {
     "name": "stdout",
     "output_type": "stream",
     "text": [
      "Exercise:  Roll ups\n",
      "Type:  Core Flexion\n",
      "Enter number of sets: 3\n",
      "Enter number of reps in set 1 : \n",
      "14\n",
      "Enter weight used in set 1 : \n",
      "na\n"
     ]
    },
    {
     "ename": "ValueError",
     "evalue": "invalid literal for int() with base 10: 'na'",
     "output_type": "error",
     "traceback": [
      "\u001b[0;31m---------------------------------------------------------------------\u001b[0m",
      "\u001b[0;31mValueError\u001b[0m                          Traceback (most recent call last)",
      "\u001b[0;32m<ipython-input-25-90f51e343968>\u001b[0m in \u001b[0;36m<module>\u001b[0;34m\u001b[0m\n\u001b[0;32m----> 1\u001b[0;31m \u001b[0mdays_exercise\u001b[0m\u001b[0;34m=\u001b[0m\u001b[0mfinaldb\u001b[0m\u001b[0;34m(\u001b[0m\u001b[0mdays_exercise\u001b[0m\u001b[0;34m)\u001b[0m\u001b[0;34m\u001b[0m\u001b[0;34m\u001b[0m\u001b[0m\n\u001b[0m",
      "\u001b[0;32m<ipython-input-24-a1a3fb1b2142>\u001b[0m in \u001b[0;36mfinaldb\u001b[0;34m(exercise)\u001b[0m\n\u001b[1;32m     15\u001b[0m                 \u001b[0mreps\u001b[0m\u001b[0;34m+=\u001b[0m\u001b[0;34m\"x\"\u001b[0m\u001b[0;34m\u001b[0m\u001b[0;34m\u001b[0m\u001b[0m\n\u001b[1;32m     16\u001b[0m             \u001b[0mprint\u001b[0m\u001b[0;34m(\u001b[0m\u001b[0;34m\"Enter weight used in set\"\u001b[0m\u001b[0;34m,\u001b[0m \u001b[0mj\u001b[0m\u001b[0;34m+\u001b[0m\u001b[0;36m1\u001b[0m\u001b[0;34m,\u001b[0m\u001b[0;34m\": \"\u001b[0m\u001b[0;34m)\u001b[0m\u001b[0;34m\u001b[0m\u001b[0;34m\u001b[0m\u001b[0m\n\u001b[0;32m---> 17\u001b[0;31m             \u001b[0mweight\u001b[0m\u001b[0;34m.\u001b[0m\u001b[0mappend\u001b[0m\u001b[0;34m(\u001b[0m\u001b[0mint\u001b[0m\u001b[0;34m(\u001b[0m\u001b[0minput\u001b[0m\u001b[0;34m(\u001b[0m\u001b[0;34m)\u001b[0m\u001b[0;34m)\u001b[0m\u001b[0;34m)\u001b[0m\u001b[0;34m\u001b[0m\u001b[0;34m\u001b[0m\u001b[0m\n\u001b[0m\u001b[1;32m     18\u001b[0m         \u001b[0mexercise\u001b[0m\u001b[0;34m.\u001b[0m\u001b[0mloc\u001b[0m\u001b[0;34m[\u001b[0m\u001b[0mi\u001b[0m\u001b[0;34m,\u001b[0m\u001b[0;34m\"sets\"\u001b[0m\u001b[0;34m]\u001b[0m\u001b[0;34m=\u001b[0m\u001b[0mmax_sets\u001b[0m\u001b[0;34m\u001b[0m\u001b[0;34m\u001b[0m\u001b[0m\n\u001b[1;32m     19\u001b[0m         \u001b[0mexercise\u001b[0m\u001b[0;34m.\u001b[0m\u001b[0mloc\u001b[0m\u001b[0;34m[\u001b[0m\u001b[0mi\u001b[0m\u001b[0;34m,\u001b[0m\u001b[0;34m\"reps\"\u001b[0m\u001b[0;34m]\u001b[0m\u001b[0;34m=\u001b[0m\u001b[0mreps\u001b[0m\u001b[0;34m\u001b[0m\u001b[0;34m\u001b[0m\u001b[0m\n",
      "\u001b[0;31mValueError\u001b[0m: invalid literal for int() with base 10: 'na'"
     ]
    }
   ],
   "source": [
    "days_exercise=finaldb(days_exercise)"
   ]
  },
  {
   "cell_type": "markdown",
   "metadata": {},
   "source": [
    "## days_exercise"
   ]
  },
  {
   "cell_type": "code",
   "execution_count": null,
   "metadata": {},
   "outputs": [],
   "source": [
    "b==days_exercise"
   ]
  },
  {
   "cell_type": "code",
   "execution_count": null,
   "metadata": {},
   "outputs": [],
   "source": []
  }
 ],
 "metadata": {
  "kernelspec": {
   "display_name": "Python 3",
   "language": "python",
   "name": "python3"
  },
  "language_info": {
   "codemirror_mode": {
    "name": "ipython",
    "version": 3
   },
   "file_extension": ".py",
   "mimetype": "text/x-python",
   "name": "python",
   "nbconvert_exporter": "python",
   "pygments_lexer": "ipython3",
   "version": "3.8.5"
  }
 },
 "nbformat": 4,
 "nbformat_minor": 4
}
