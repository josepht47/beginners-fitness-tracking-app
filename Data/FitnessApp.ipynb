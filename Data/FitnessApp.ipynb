{
 "cells": [
  {
   "cell_type": "markdown",
   "metadata": {},
   "source": [
    "Fitness Tracker App"
   ]
  },
  {
   "cell_type": "code",
   "execution_count": 1,
   "metadata": {},
   "outputs": [],
   "source": [
    "#Importing Libraries\n",
    "import numpy as np\n",
    "import pandas as pd\n",
    "import datetime\n",
    "import glob\n",
    "from openpyxl import load_workbook\n",
    "from pathlib import Path"
   ]
  },
  {
   "cell_type": "code",
   "execution_count": 2,
   "metadata": {},
   "outputs": [],
   "source": [
    "path=\"/Users/josephthomas/Documents/Areas of Focus/Code Repositories/git/beginners-fitness-tracking-app/Data\""
   ]
  },
  {
   "cell_type": "code",
   "execution_count": 3,
   "metadata": {},
   "outputs": [],
   "source": [
    "opath=\"/Users/josephthomas/Documents/Areas of Focus/Code Repositories/git/beginners-fitness-tracking-app/out\""
   ]
  },
  {
   "cell_type": "code",
   "execution_count": 4,
   "metadata": {},
   "outputs": [],
   "source": [
    "schedule=pd.read_csv(path+\"/Schedule.csv\")"
   ]
  },
  {
   "cell_type": "code",
   "execution_count": 5,
   "metadata": {},
   "outputs": [],
   "source": [
    "def num_inp(size=10):\n",
    "    check=0\n",
    "    val=input()\n",
    "    while check<1:\n",
    "        if val.isnumeric():\n",
    "            if int(val)<=size:\n",
    "                check+=1\n",
    "                return int(val)\n",
    "            else:\n",
    "                print(\"Enter a number between 0 and\",size-1)\n",
    "                return num_inp()\n",
    "        else:\n",
    "            print(\"Enter a valid number\")\n",
    "            return num_inp()\n",
    "    "
   ]
  },
  {
   "cell_type": "code",
   "execution_count": 6,
   "metadata": {},
   "outputs": [],
   "source": [
    "def readWOs():\n",
    "    wo={}\n",
    "    for file in Path(path).glob('*.csv'):\n",
    "        key=str(file).split('/')[9].split('.')[0]\n",
    "        value=pd.read_csv(file)\n",
    "        wo[key]=value\n",
    "    return wo"
   ]
  },
  {
   "cell_type": "code",
   "execution_count": 7,
   "metadata": {},
   "outputs": [],
   "source": [
    "workouts=readWOs()"
   ]
  },
  {
   "cell_type": "code",
   "execution_count": 8,
   "metadata": {},
   "outputs": [],
   "source": [
    "def setdate():\n",
    "    a=input(\"Do you want to keep to schedule and complete today's exercise? (y/n)\")\n",
    "    if (a.lower()=='y')|(a.lower()=='yes'):\n",
    "        return datetime.date.today()\n",
    "    elif (a.lower()=='n')|(a.lower()=='no'):\n",
    "        dat=input(\"Enter the date of exercise you want to complete (format: dd/mm/yyyy)\")\n",
    "        return datetime.datetime.strptime(dat,'%d/%m/%Y').date()\n",
    "    else:\n",
    "        print(\"Enter a valid response: \")\n",
    "        return setdate()\n",
    "        "
   ]
  },
  {
   "cell_type": "code",
   "execution_count": 9,
   "metadata": {},
   "outputs": [
    {
     "name": "stdout",
     "output_type": "stream",
     "text": [
      "Do you want to keep to schedule and complete today's exercise? (y/n)y\n"
     ]
    }
   ],
   "source": [
    "ex_date=setdate()"
   ]
  },
  {
   "cell_type": "code",
   "execution_count": 10,
   "metadata": {},
   "outputs": [],
   "source": [
    "def workfunc(wo_schedule, reldate):\n",
    "    weeknum=int(reldate.strftime(\"%U\"))\n",
    "    day=reldate.strftime(\"%A\")\n",
    "    wo=wo_schedule[wo_schedule['Week']==weeknum][[day,'Level']]\n",
    "    numwo=len(wo)\n",
    "    return wo.reset_index().drop('index',axis=1),numwo\n",
    "    "
   ]
  },
  {
   "cell_type": "code",
   "execution_count": 11,
   "metadata": {},
   "outputs": [],
   "source": [
    "workout,num_workout = workfunc(schedule,ex_date)"
   ]
  },
  {
   "cell_type": "code",
   "execution_count": 12,
   "metadata": {},
   "outputs": [],
   "source": [
    "def wolist(WO,num_WO):\n",
    "    temp=[]\n",
    "    day=ex_date.strftime(\"%A\")\n",
    "    for i in range(num_WO):\n",
    "        tempdf=workouts[WO[day][i]]\n",
    "        temp.append(tempdf[tempdf.level==WO['Level'][i]])\n",
    "    temp=pd.concat(temp).reset_index().drop('index',axis=1)\n",
    "    return temp\n",
    "    "
   ]
  },
  {
   "cell_type": "code",
   "execution_count": 13,
   "metadata": {},
   "outputs": [],
   "source": [
    "days_exercise=wolist(workout,num_workout)"
   ]
  },
  {
   "cell_type": "code",
   "execution_count": 14,
   "metadata": {},
   "outputs": [
    {
     "name": "stdout",
     "output_type": "stream",
     "text": [
      "                             exercise             type  level\n",
      "0                       DB Drop Squat            squat      1\n",
      "1                RA DB Overhead Press    vertical push      1\n",
      "2                LA DB Overhead Press    vertical push      1\n",
      "3                 Chest Supported Row  horizontal pull      1\n",
      "4                      BW Split Squat     static lunge      1\n",
      "5  Thumbs Up Dumbell Bench Press +2kg          Triceps      2\n"
     ]
    }
   ],
   "source": [
    "print(days_exercise)"
   ]
  },
  {
   "cell_type": "code",
   "execution_count": 15,
   "metadata": {},
   "outputs": [
    {
     "name": "stdout",
     "output_type": "stream",
     "text": [
      "\n"
     ]
    },
    {
     "data": {
      "text/plain": [
       "''"
      ]
     },
     "execution_count": 15,
     "metadata": {},
     "output_type": "execute_result"
    }
   ],
   "source": [
    "input()"
   ]
  },
  {
   "cell_type": "code",
   "execution_count": 16,
   "metadata": {},
   "outputs": [],
   "source": [
    "def finaldb(exercise):\n",
    "    a=[]\n",
    "    i=0\n",
    "    while i<exercise.shape[0]:\n",
    "        print(\"Exercise: \", exercise.loc[i,\"exercise\"])\n",
    "        print(\"Type: \", exercise.loc[i,\"type\"])\n",
    "        print(\"Enter number of sets: \")\n",
    "        max_sets=num_inp(10)\n",
    "        reps=\" \"\n",
    "        weight=[]\n",
    "        if max_sets!=0:\n",
    "            for j in range(max_sets):\n",
    "                print(\"Enter number of reps in set\",j+1,\": \")\n",
    "                rep=str(num_inp(50))\n",
    "                reps=reps+rep\n",
    "                if j!=(max_sets-1):\n",
    "                    reps+=\"x\"\n",
    "                print(\"Enter weight used in set\", j+1,\": \")\n",
    "                weight.append(num_inp(400))\n",
    "        else:\n",
    "            reps=\"0x0x0\"\n",
    "            weight=[0,0,0]\n",
    "        exercise.loc[i,\"sets\"]=max_sets\n",
    "        exercise.loc[i,\"reps\"]=reps\n",
    "        exercise.loc[i,\"max_weight\"]=np.array(weight).max()\n",
    "        exercise.loc[i,\"avg_weight\"]=np.array(weight).mean()\n",
    "        i+=1\n",
    "    return exercise\n",
    "    "
   ]
  },
  {
   "cell_type": "code",
   "execution_count": 17,
   "metadata": {
    "scrolled": true
   },
   "outputs": [
    {
     "name": "stdout",
     "output_type": "stream",
     "text": [
      "Exercise:  DB Drop Squat\n",
      "Type:  squat\n",
      "Enter number of sets: \n",
      "3\n",
      "Enter number of reps in set 1 : \n",
      "13\n",
      "Enter weight used in set 1 : \n",
      "20\n",
      "Enter number of reps in set 2 : \n",
      "12\n",
      "Enter weight used in set 2 : \n",
      "22\n",
      "Enter number of reps in set 3 : \n",
      "13\n",
      "Enter weight used in set 3 : \n",
      "22\n",
      "Exercise:  RA DB Overhead Press\n",
      "Type:  vertical push\n",
      "Enter number of sets: \n",
      "3\n",
      "Enter number of reps in set 1 : \n",
      "12\n",
      "Enter weight used in set 1 : \n",
      "10\n",
      "Enter number of reps in set 2 : \n",
      "12\n",
      "Enter weight used in set 2 : \n",
      "10\n",
      "Enter number of reps in set 3 : \n",
      "10\n",
      "Enter weight used in set 3 : \n",
      "10\n",
      "Exercise:  LA DB Overhead Press\n",
      "Type:  vertical push\n",
      "Enter number of sets: \n",
      "3\n",
      "Enter number of reps in set 1 : \n",
      "15\n",
      "Enter weight used in set 1 : \n",
      "8\n",
      "Enter number of reps in set 2 : \n",
      "12\n",
      "Enter weight used in set 2 : \n",
      "7\n",
      "Enter number of reps in set 3 : \n",
      "12\n",
      "Enter weight used in set 3 : \n",
      "6\n",
      "Exercise:  Chest Supported Row\n",
      "Type:  horizontal pull\n",
      "Enter number of sets: \n",
      "3\n",
      "Enter number of reps in set 1 : \n",
      "15\n",
      "Enter weight used in set 1 : \n",
      "6\n",
      "Enter number of reps in set 2 : \n",
      "12\n",
      "Enter weight used in set 2 : \n",
      "8\n",
      "Enter number of reps in set 3 : \n",
      "12\n",
      "Enter weight used in set 3 : \n",
      "8\n",
      "Exercise:  BW Split Squat\n",
      "Type:  static lunge\n",
      "Enter number of sets: \n",
      "3\n",
      "Enter number of reps in set 1 : \n",
      "15\n",
      "Enter weight used in set 1 : \n",
      "60\n",
      "Enter number of reps in set 2 : \n",
      "15\n",
      "Enter weight used in set 2 : \n",
      "60\n",
      "Enter number of reps in set 3 : \n",
      "0\n",
      "Enter weight used in set 3 : \n",
      "0\n",
      "Exercise:  Thumbs Up Dumbell Bench Press +2kg\n",
      "Type:  Triceps\n",
      "Enter number of sets: \n",
      "2\n",
      "Enter number of reps in set 1 : \n",
      "15\n",
      "Enter weight used in set 1 : \n",
      "6\n",
      "Enter number of reps in set 2 : \n",
      "15\n",
      "Enter weight used in set 2 : \n",
      "8\n"
     ]
    }
   ],
   "source": [
    "days_exercise=finaldb(days_exercise)"
   ]
  },
  {
   "cell_type": "code",
   "execution_count": 18,
   "metadata": {},
   "outputs": [],
   "source": [
    "days_exercise['date'] = ex_date\n",
    "days_exercise=days_exercise[['date','exercise','type','level','sets','avg_weight','max_weight','reps']]"
   ]
  },
  {
   "cell_type": "code",
   "execution_count": 19,
   "metadata": {},
   "outputs": [],
   "source": [
    "def adddata(df, adate):\n",
    "    filename=opath+'/{}.xlsx'.format(adate.strftime('%B'))\n",
    "    if Path(filename).is_file():\n",
    "        writer=pd.ExcelWriter(filename, engine='openpyxl', mode='a')\n",
    "        writer.book = load_workbook(filename)\n",
    "        startrow = writer.book['Sheet1'].max_row\n",
    "        writer.sheets = dict((ws.title, ws) for ws in writer.book.worksheets)\n",
    "        df.to_excel(writer, 'Sheet1', startrow=startrow,header=None,index=False)\n",
    "        writer.save()\n",
    "    else:\n",
    "        df.to_excel(filename, index=False)"
   ]
  },
  {
   "cell_type": "code",
   "execution_count": 20,
   "metadata": {},
   "outputs": [],
   "source": [
    "adddata(days_exercise,ex_date)"
   ]
  },
  {
   "cell_type": "markdown",
   "metadata": {},
   "source": [
    "Part B: Analysis And Visualization"
   ]
  },
  {
   "cell_type": "markdown",
   "metadata": {},
   "source": [
    "import matplotlib.pyplot as plt"
   ]
  },
  {
   "cell_type": "markdown",
   "metadata": {},
   "source": [
    "df=pd.read_excel(opath+'/{}.xlsx'.format(datetime.date.today().strftime('%B')))"
   ]
  },
  {
   "cell_type": "markdown",
   "metadata": {
    "scrolled": true
   },
   "source": [
    "plt.plot(df.groupby(['date','type']).mean().reset_index()['date'],df.groupby(['date','type']).mean().reset_index()['max_weight'])"
   ]
  },
  {
   "cell_type": "markdown",
   "metadata": {},
   "source": [
    "df.groupby(['date','type']).mean().reset_index()['date']"
   ]
  },
  {
   "cell_type": "markdown",
   "metadata": {},
   "source": []
  }
 ],
 "metadata": {
  "kernelspec": {
   "display_name": "Python 3",
   "language": "python",
   "name": "python3"
  },
  "language_info": {
   "codemirror_mode": {
    "name": "ipython",
    "version": 3
   },
   "file_extension": ".py",
   "mimetype": "text/x-python",
   "name": "python",
   "nbconvert_exporter": "python",
   "pygments_lexer": "ipython3",
   "version": "3.8.5"
  }
 },
 "nbformat": 4,
 "nbformat_minor": 4
}
